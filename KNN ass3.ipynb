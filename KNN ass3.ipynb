{
 "cells": [
  {
   "cell_type": "markdown",
   "id": "71c8b831-8b97-4720-b8e6-9188a648afc9",
   "metadata": {},
   "source": [
    "Q1. Write a Python code to implement the KNN classifier algorithm on load_iris dataset in\n",
    "sklearn.datasets."
   ]
  },
  {
   "cell_type": "code",
   "execution_count": 9,
   "id": "61d457c0-d241-440f-9461-d69c34c62c99",
   "metadata": {},
   "outputs": [
    {
     "data": {
      "text/plain": [
       "(1.0,\n",
       " '              precision    recall  f1-score   support\\n\\n           0       1.00      1.00      1.00        19\\n           1       1.00      1.00      1.00        13\\n           2       1.00      1.00      1.00        13\\n\\n    accuracy                           1.00        45\\n   macro avg       1.00      1.00      1.00        45\\nweighted avg       1.00      1.00      1.00        45\\n')"
      ]
     },
     "execution_count": 9,
     "metadata": {},
     "output_type": "execute_result"
    }
   ],
   "source": [
    "from sklearn.datasets import load_iris\n",
    "from sklearn.model_selection import train_test_split\n",
    "from sklearn.neighbors import KNeighborsClassifier\n",
    "from sklearn.metrics import accuracy_score, classification_report\n",
    "\n",
    "# Load the iris dataset\n",
    "iris = load_iris()\n",
    "X, y = iris.data, iris.target\n",
    "\n",
    "# Split the dataset into training and testing sets\n",
    "X_train, X_test, y_train, y_test = train_test_split(X, y, test_size=0.3, random_state=42)\n",
    "\n",
    "# Initialize the KNN classifier\n",
    "knn = KNeighborsClassifier(n_neighbors=3)\n",
    "\n",
    "# Train the model\n",
    "knn.fit(X_train, y_train)\n",
    "\n",
    "# Make predictions on the test set\n",
    "y_pred = knn.predict(X_test)\n",
    "\n",
    "# Evaluate the model\n",
    "accuracy = accuracy_score(y_test, y_pred)\n",
    "report = classification_report(y_test, y_pred)\n",
    "\n",
    "accuracy, report\n"
   ]
  },
  {
   "cell_type": "markdown",
   "id": "d2e4bd86-c86e-4e5a-b269-d08a70532478",
   "metadata": {},
   "source": [
    "Q2. Write a Python code to implement the KNN regressor algorithm on load_boston dataset in\n",
    "sklearn.datasets."
   ]
  },
  {
   "cell_type": "code",
   "execution_count": 10,
   "id": "d6d81e71-2a95-4aa1-b23f-5f7cbb13b35f",
   "metadata": {},
   "outputs": [
    {
     "name": "stdout",
     "output_type": "stream",
     "text": [
      "Mean Squared Error: 3222.117894736842\n",
      "R-squared: 0.4031244536507893\n"
     ]
    }
   ],
   "source": [
    "from sklearn.datasets import load_diabetes\n",
    "from sklearn.model_selection import train_test_split\n",
    "from sklearn.neighbors import KNeighborsRegressor\n",
    "from sklearn.metrics import mean_squared_error, r2_score\n",
    "\n",
    "# Load the diabetes dataset\n",
    "diabetes = load_diabetes()\n",
    "X, y = diabetes.data, diabetes.target\n",
    "\n",
    "# Split the dataset into training and testing sets\n",
    "X_train, X_test, y_train, y_test = train_test_split(X, y, test_size=0.3, random_state=42)\n",
    "\n",
    "# Initialize the KNN regressor\n",
    "knn_regressor = KNeighborsRegressor(n_neighbors=5)\n",
    "\n",
    "# Train the model\n",
    "knn_regressor.fit(X_train, y_train)\n",
    "\n",
    "# Make predictions on the test set\n",
    "y_pred = knn_regressor.predict(X_test)\n",
    "\n",
    "# Evaluate the model\n",
    "mse = mean_squared_error(y_test, y_pred)\n",
    "r2 = r2_score(y_test, y_pred)\n",
    "\n",
    "print(f\"Mean Squared Error: {mse}\")\n",
    "print(f\"R-squared: {r2}\")\n"
   ]
  },
  {
   "cell_type": "markdown",
   "id": "adf0d1ca-9571-4e75-bad3-e775d0f25042",
   "metadata": {},
   "source": [
    "Q3. Write a Python code snippet to find the optimal value of K for the KNN classifier algorithm using\n",
    "cross-validation on load_iris dataset in sklearn.datasets."
   ]
  },
  {
   "cell_type": "code",
   "execution_count": 8,
   "id": "665aa591-9e84-409c-9399-d2e500d0a76b",
   "metadata": {},
   "outputs": [
    {
     "name": "stdout",
     "output_type": "stream",
     "text": [
      "The optimal number of neighbors (K): 1\n",
      "Accuracy with optimal K: 1.0\n"
     ]
    }
   ],
   "source": [
    "from sklearn.datasets import load_iris\n",
    "from sklearn.model_selection import GridSearchCV, train_test_split\n",
    "from sklearn.neighbors import KNeighborsClassifier\n",
    "from sklearn.metrics import accuracy_score\n",
    "\n",
    "# Load the iris dataset\n",
    "iris = load_iris()\n",
    "X, y = iris.data, iris.target\n",
    "\n",
    "# Split the dataset into training and testing sets\n",
    "X_train, X_test, y_train, y_test = train_test_split(X, y, test_size=0.3, random_state=42)\n",
    "\n",
    "# Initialize the KNN classifier\n",
    "knn = KNeighborsClassifier()\n",
    "\n",
    "# Define the parameter grid: trying different values for K\n",
    "param_grid = {'n_neighbors': list(range(1, 31))}\n",
    "\n",
    "# Use GridSearchCV to search for the optimal K\n",
    "grid_search = GridSearchCV(knn, param_grid, cv=5, scoring='accuracy')\n",
    "\n",
    "# Fit the model\n",
    "grid_search.fit(X_train, y_train)\n",
    "\n",
    "# Get the best K value\n",
    "optimal_k = grid_search.best_params_['n_neighbors']\n",
    "print(f\"The optimal number of neighbors (K): {optimal_k}\")\n",
    "\n",
    "# Train the model with the optimal K\n",
    "knn_optimized = KNeighborsClassifier(n_neighbors=optimal_k)\n",
    "knn_optimized.fit(X_train, y_train)\n",
    "\n",
    "# Make predictions on the test set\n",
    "y_pred = knn_optimized.predict(X_test)\n",
    "\n",
    "# Evaluate the model\n",
    "accuracy = accuracy_score(y_test, y_pred)\n",
    "print(f\"Accuracy with optimal K: {accuracy}\")\n"
   ]
  },
  {
   "cell_type": "markdown",
   "id": "a16fbb8d-4bae-4922-beff-8ee452057dff",
   "metadata": {},
   "source": [
    "Q4. Implement the KNN regressor algorithm with feature scaling on load_boston dataset in\n",
    "sklearn.datasets."
   ]
  },
  {
   "cell_type": "markdown",
   "id": "81923a37-b70f-4d39-8549-399bfa4f8198",
   "metadata": {},
   "source": [
    "To implement the K-Nearest Neighbors (KNN) regressor algorithm with feature scaling on the Boston housing dataset, you can follow these steps:\n",
    "\n",
    "Load the dataset.\n",
    "\n",
    "Split the dataset into features and target variable.\n",
    "\n",
    "Standardize the features using StandardScaler.\n",
    "\n",
    "Split the data into training and testing sets.\n",
    "\n",
    "Create a KNN regressor instance and fit it to the training data.\n",
    "\n",
    "Make predictions on the test data and evaluate the model."
   ]
  },
  {
   "cell_type": "code",
   "execution_count": 6,
   "id": "57762929-eadd-471a-badd-d6aeed246015",
   "metadata": {},
   "outputs": [
    {
     "name": "stdout",
     "output_type": "stream",
     "text": [
      "Mean Squared Error: 0.43\n",
      "R^2 Score: 0.67\n"
     ]
    }
   ],
   "source": [
    "import numpy as np\n",
    "import pandas as pd\n",
    "from sklearn.datasets import fetch_california_housing\n",
    "from sklearn.model_selection import train_test_split\n",
    "from sklearn.preprocessing import StandardScaler\n",
    "from sklearn.neighbors import KNeighborsRegressor\n",
    "from sklearn.metrics import mean_squared_error, r2_score\n",
    "\n",
    "# Load the California housing dataset\n",
    "california_housing = fetch_california_housing()\n",
    "X = pd.DataFrame(california_housing.data, columns=california_housing.feature_names)\n",
    "y = pd.Series(california_housing.target)\n",
    "\n",
    "def knn_regressor_on_california(n_neighbors=5, test_size=0.2):\n",
    "    \"\"\"\n",
    "    Implement KNN regressor on the California housing dataset with feature scaling.\n",
    "    \n",
    "    Parameters:\n",
    "    - n_neighbors: Number of neighbors for KNN\n",
    "    - test_size: Proportion of the dataset to include in the test split\n",
    "    \n",
    "    Returns:\n",
    "    - mse: Mean Squared Error of the KNN regressor on the test set\n",
    "    - r2: R^2 score of the KNN regressor on the test set\n",
    "    \"\"\"\n",
    "    # Split the data into training and testing sets\n",
    "    X_train, X_test, y_train, y_test = train_test_split(X, y, test_size=test_size, random_state=42)\n",
    "    \n",
    "    # Create a StandardScaler instance\n",
    "    scaler = StandardScaler()\n",
    "    \n",
    "    # Fit the scaler on the training data and transform both training and testing data\n",
    "    X_train_scaled = scaler.fit_transform(X_train)\n",
    "    X_test_scaled = scaler.transform(X_test)\n",
    "    \n",
    "    # Create a KNN regressor instance\n",
    "    knn_regressor = KNeighborsRegressor(n_neighbors=n_neighbors)\n",
    "    \n",
    "    # Fit the regressor on the scaled training data\n",
    "    knn_regressor.fit(X_train_scaled, y_train)\n",
    "    \n",
    "    # Make predictions on the scaled test data\n",
    "    y_pred = knn_regressor.predict(X_test_scaled)\n",
    "    \n",
    "    # Calculate Mean Squared Error and R^2 score\n",
    "    mse = mean_squared_error(y_test, y_pred)\n",
    "    r2 = r2_score(y_test, y_pred)\n",
    "    \n",
    "    return mse, r2\n",
    "\n",
    "# Example usage\n",
    "mse, r2 = knn_regressor_on_california(n_neighbors=5)\n",
    "print(f\"Mean Squared Error: {mse:.2f}\")\n",
    "print(f\"R^2 Score: {r2:.2f}\")\n"
   ]
  },
  {
   "cell_type": "markdown",
   "id": "65897465-1f73-4677-9432-436f53640b4c",
   "metadata": {},
   "source": [
    "Q6. Implement a function to standardise the features before applying KNN classifier."
   ]
  },
  {
   "cell_type": "code",
   "execution_count": 4,
   "id": "90d606be-f078-470d-8738-a03a743c693c",
   "metadata": {},
   "outputs": [],
   "source": [
    "import numpy as np\n",
    "from sklearn.preprocessing import StandardScaler\n",
    "from sklearn.neighbors import KNeighborsClassifier\n",
    "from sklearn.model_selection import train_test_split\n",
    "from sklearn.metrics import accuracy_score\n",
    "\n",
    "def standardize_and_knn(X, y, test_size=0.2, n_neighbors=5):\n",
    "    \"\"\"\n",
    "    Standardizes the features and applies KNN classifier.\n",
    "    \n",
    "    Parameters:\n",
    "    - X: Input features (numpy array or pandas DataFrame)\n",
    "    - y: Target labels (numpy array or pandas Series)\n",
    "    - test_size: Proportion of the dataset to include in the test split\n",
    "    - n_neighbors: Number of neighbors to use for KNN\n",
    "    \n",
    "    Returns:\n",
    "    - accuracy: Accuracy of the KNN classifier on the test set\n",
    "    \"\"\"\n",
    "    # Split the data into training and testing sets\n",
    "    X_train, X_test, y_train, y_test = train_test_split(X, y, test_size=test_size, random_state=42)\n",
    "    \n",
    "    # Create a StandardScaler instance\n",
    "    scaler = StandardScaler()\n",
    "    \n",
    "    # Fit the scaler on the training data and transform both training and testing data\n",
    "    X_train_scaled = scaler.fit_transform(X_train)\n",
    "    X_test_scaled = scaler.transform(X_test)\n",
    "    \n",
    "    # Create a KNN classifier instance\n",
    "    knn = KNeighborsClassifier(n_neighbors=n_neighbors)\n",
    "    \n",
    "    # Fit the classifier on the standardized training data\n",
    "    knn.fit(X_train_scaled, y_train)\n",
    "    \n",
    "    # Make predictions on the standardized test data\n",
    "    y_pred = knn.predict(X_test_scaled)\n",
    "    \n",
    "    # Calculate accuracy\n",
    "    accuracy = accuracy_score(y_test, y_pred)\n",
    "    \n",
    "    return accuracy\n",
    "\n"
   ]
  },
  {
   "cell_type": "markdown",
   "id": "f6a1372c-6bcf-4160-8384-df8ee6e38fd6",
   "metadata": {},
   "source": [
    "Explanation:\n",
    "\n",
    "StandardScaler: This class standardizes features by removing the mean and scaling to unit variance.\n",
    "\n",
    "train_test_split: This function splits the dataset into training and testing sets.\n",
    "\n",
    "KNeighborsClassifier: This is the KNN classifier implementation.\n",
    "\n",
    "accuracy_score: This function calculates the accuracy of the model.\n",
    "\n",
    "You can replace the sample X and y in the example usage with your actual dataset to test the function."
   ]
  },
  {
   "cell_type": "markdown",
   "id": "5dd7c160-231e-4d2b-9b5a-3b41d2bda5c8",
   "metadata": {},
   "source": [
    "Q7. Write a Python function to calculate the euclidean distance between two points."
   ]
  },
  {
   "cell_type": "code",
   "execution_count": 7,
   "id": "d82a79ef-46b5-4fb2-aa1d-a8dd7d434fd9",
   "metadata": {},
   "outputs": [
    {
     "name": "stdout",
     "output_type": "stream",
     "text": [
      "The Euclidean distance between (3, 4) and (0, 0) is: 5.00\n"
     ]
    }
   ],
   "source": [
    "import numpy as np\n",
    "\n",
    "def euclidean_distance(point1, point2):\n",
    "    \"\"\"\n",
    "    Calculate the Euclidean distance between two points.\n",
    "\n",
    "    Parameters:\n",
    "    - point1: First point (list, tuple, or numpy array)\n",
    "    - point2: Second point (list, tuple, or numpy array)\n",
    "\n",
    "    Returns:\n",
    "    - distance: Euclidean distance between the two points\n",
    "    \"\"\"\n",
    "    # Convert points to numpy arrays for easier calculations\n",
    "    point1 = np.array(point1)\n",
    "    point2 = np.array(point2)\n",
    "\n",
    "    # Calculate the Euclidean distance\n",
    "    distance = np.sqrt(np.sum((point1 - point2) ** 2))\n",
    "    \n",
    "    return distance\n",
    "\n",
    "# Example usage\n",
    "p1 = (3, 4)\n",
    "p2 = (0, 0)\n",
    "distance = euclidean_distance(p1, p2)\n",
    "print(f\"The Euclidean distance between {p1} and {p2} is: {distance:.2f}\")\n"
   ]
  },
  {
   "cell_type": "code",
   "execution_count": null,
   "id": "cf015f11-30f1-4293-881c-e2a709f942cd",
   "metadata": {},
   "outputs": [],
   "source": []
  }
 ],
 "metadata": {
  "kernelspec": {
   "display_name": "Python 3 (ipykernel)",
   "language": "python",
   "name": "python3"
  },
  "language_info": {
   "codemirror_mode": {
    "name": "ipython",
    "version": 3
   },
   "file_extension": ".py",
   "mimetype": "text/x-python",
   "name": "python",
   "nbconvert_exporter": "python",
   "pygments_lexer": "ipython3",
   "version": "3.10.8"
  }
 },
 "nbformat": 4,
 "nbformat_minor": 5
}
